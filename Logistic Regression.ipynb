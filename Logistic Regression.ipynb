{
 "cells": [
  {
   "cell_type": "code",
   "execution_count": 1,
   "metadata": {
    "execution": {
     "iopub.execute_input": "2025-05-26T10:25:08.587023Z",
     "iopub.status.busy": "2025-05-26T10:25:08.586713Z",
     "iopub.status.idle": "2025-05-26T10:25:08.591180Z",
     "shell.execute_reply": "2025-05-26T10:25:08.590193Z",
     "shell.execute_reply.started": "2025-05-26T10:25:08.586999Z"
    },
    "trusted": true
   },
   "outputs": [],
   "source": [
    "import numpy as np\n",
    "import pandas as pd\n",
    "import matplotlib.pyplot as plt"
   ]
  },
  {
   "cell_type": "code",
   "execution_count": 2,
   "metadata": {
    "_cell_guid": "61020052-b4c1-46cf-9a02-dc4debc9fa3f",
    "_uuid": "2bf7c476-ffaa-468f-a75b-d9fbc19b16d7",
    "collapsed": false,
    "execution": {
     "iopub.execute_input": "2025-05-26T10:25:11.756373Z",
     "iopub.status.busy": "2025-05-26T10:25:11.756102Z",
     "iopub.status.idle": "2025-05-26T10:25:11.765737Z",
     "shell.execute_reply": "2025-05-26T10:25:11.764975Z",
     "shell.execute_reply.started": "2025-05-26T10:25:11.756355Z"
    },
    "jupyter": {
     "outputs_hidden": false
    },
    "trusted": true
   },
   "outputs": [],
   "source": [
    "df = pd.read_csv(\"train.csv\")"
   ]
  },
  {
   "cell_type": "code",
   "execution_count": 3,
   "metadata": {
    "_cell_guid": "64a164e2-44e6-46e6-9ae1-d733ac1f998c",
    "_uuid": "39fc7320-64f4-42f3-9cde-78e289e3b1e3",
    "collapsed": false,
    "execution": {
     "iopub.execute_input": "2025-05-26T10:25:11.996830Z",
     "iopub.status.busy": "2025-05-26T10:25:11.996217Z",
     "iopub.status.idle": "2025-05-26T10:25:12.009085Z",
     "shell.execute_reply": "2025-05-26T10:25:12.008242Z",
     "shell.execute_reply.started": "2025-05-26T10:25:11.996802Z"
    },
    "jupyter": {
     "outputs_hidden": false
    },
    "trusted": true
   },
   "outputs": [
    {
     "data": {
      "text/html": [
       "<div>\n",
       "<style scoped>\n",
       "    .dataframe tbody tr th:only-of-type {\n",
       "        vertical-align: middle;\n",
       "    }\n",
       "\n",
       "    .dataframe tbody tr th {\n",
       "        vertical-align: top;\n",
       "    }\n",
       "\n",
       "    .dataframe thead th {\n",
       "        text-align: right;\n",
       "    }\n",
       "</style>\n",
       "<table border=\"1\" class=\"dataframe\">\n",
       "  <thead>\n",
       "    <tr style=\"text-align: right;\">\n",
       "      <th></th>\n",
       "      <th>PassengerId</th>\n",
       "      <th>Survived</th>\n",
       "      <th>Pclass</th>\n",
       "      <th>Name</th>\n",
       "      <th>Sex</th>\n",
       "      <th>Age</th>\n",
       "      <th>SibSp</th>\n",
       "      <th>Parch</th>\n",
       "      <th>Ticket</th>\n",
       "      <th>Fare</th>\n",
       "      <th>Cabin</th>\n",
       "      <th>Embarked</th>\n",
       "    </tr>\n",
       "  </thead>\n",
       "  <tbody>\n",
       "    <tr>\n",
       "      <th>0</th>\n",
       "      <td>1</td>\n",
       "      <td>0</td>\n",
       "      <td>3</td>\n",
       "      <td>Braund, Mr. Owen Harris</td>\n",
       "      <td>male</td>\n",
       "      <td>22.0</td>\n",
       "      <td>1</td>\n",
       "      <td>0</td>\n",
       "      <td>A/5 21171</td>\n",
       "      <td>7.2500</td>\n",
       "      <td>NaN</td>\n",
       "      <td>S</td>\n",
       "    </tr>\n",
       "    <tr>\n",
       "      <th>1</th>\n",
       "      <td>2</td>\n",
       "      <td>1</td>\n",
       "      <td>1</td>\n",
       "      <td>Cumings, Mrs. John Bradley (Florence Briggs Th...</td>\n",
       "      <td>female</td>\n",
       "      <td>38.0</td>\n",
       "      <td>1</td>\n",
       "      <td>0</td>\n",
       "      <td>PC 17599</td>\n",
       "      <td>71.2833</td>\n",
       "      <td>C85</td>\n",
       "      <td>C</td>\n",
       "    </tr>\n",
       "    <tr>\n",
       "      <th>2</th>\n",
       "      <td>3</td>\n",
       "      <td>1</td>\n",
       "      <td>3</td>\n",
       "      <td>Heikkinen, Miss. Laina</td>\n",
       "      <td>female</td>\n",
       "      <td>26.0</td>\n",
       "      <td>0</td>\n",
       "      <td>0</td>\n",
       "      <td>STON/O2. 3101282</td>\n",
       "      <td>7.9250</td>\n",
       "      <td>NaN</td>\n",
       "      <td>S</td>\n",
       "    </tr>\n",
       "    <tr>\n",
       "      <th>3</th>\n",
       "      <td>4</td>\n",
       "      <td>1</td>\n",
       "      <td>1</td>\n",
       "      <td>Futrelle, Mrs. Jacques Heath (Lily May Peel)</td>\n",
       "      <td>female</td>\n",
       "      <td>35.0</td>\n",
       "      <td>1</td>\n",
       "      <td>0</td>\n",
       "      <td>113803</td>\n",
       "      <td>53.1000</td>\n",
       "      <td>C123</td>\n",
       "      <td>S</td>\n",
       "    </tr>\n",
       "    <tr>\n",
       "      <th>4</th>\n",
       "      <td>5</td>\n",
       "      <td>0</td>\n",
       "      <td>3</td>\n",
       "      <td>Allen, Mr. William Henry</td>\n",
       "      <td>male</td>\n",
       "      <td>35.0</td>\n",
       "      <td>0</td>\n",
       "      <td>0</td>\n",
       "      <td>373450</td>\n",
       "      <td>8.0500</td>\n",
       "      <td>NaN</td>\n",
       "      <td>S</td>\n",
       "    </tr>\n",
       "  </tbody>\n",
       "</table>\n",
       "</div>"
      ],
      "text/plain": [
       "   PassengerId  Survived  Pclass  \\\n",
       "0            1         0       3   \n",
       "1            2         1       1   \n",
       "2            3         1       3   \n",
       "3            4         1       1   \n",
       "4            5         0       3   \n",
       "\n",
       "                                                Name     Sex   Age  SibSp  \\\n",
       "0                            Braund, Mr. Owen Harris    male  22.0      1   \n",
       "1  Cumings, Mrs. John Bradley (Florence Briggs Th...  female  38.0      1   \n",
       "2                             Heikkinen, Miss. Laina  female  26.0      0   \n",
       "3       Futrelle, Mrs. Jacques Heath (Lily May Peel)  female  35.0      1   \n",
       "4                           Allen, Mr. William Henry    male  35.0      0   \n",
       "\n",
       "   Parch            Ticket     Fare Cabin Embarked  \n",
       "0      0         A/5 21171   7.2500   NaN        S  \n",
       "1      0          PC 17599  71.2833   C85        C  \n",
       "2      0  STON/O2. 3101282   7.9250   NaN        S  \n",
       "3      0            113803  53.1000  C123        S  \n",
       "4      0            373450   8.0500   NaN        S  "
      ]
     },
     "execution_count": 3,
     "metadata": {},
     "output_type": "execute_result"
    }
   ],
   "source": [
    "df.head()"
   ]
  },
  {
   "cell_type": "code",
   "execution_count": 4,
   "metadata": {
    "_cell_guid": "44377334-f7c4-4949-aaf5-52d7395ec095",
    "_uuid": "13db62d0-bab8-4c18-85de-d8b4bbc10ef6",
    "collapsed": false,
    "execution": {
     "iopub.execute_input": "2025-05-26T10:25:12.486511Z",
     "iopub.status.busy": "2025-05-26T10:25:12.486172Z",
     "iopub.status.idle": "2025-05-26T10:25:12.497093Z",
     "shell.execute_reply": "2025-05-26T10:25:12.496036Z",
     "shell.execute_reply.started": "2025-05-26T10:25:12.486483Z"
    },
    "jupyter": {
     "outputs_hidden": false
    },
    "trusted": true
   },
   "outputs": [
    {
     "name": "stdout",
     "output_type": "stream",
     "text": [
      "<class 'pandas.core.frame.DataFrame'>\n",
      "RangeIndex: 891 entries, 0 to 890\n",
      "Data columns (total 12 columns):\n",
      " #   Column       Non-Null Count  Dtype  \n",
      "---  ------       --------------  -----  \n",
      " 0   PassengerId  891 non-null    int64  \n",
      " 1   Survived     891 non-null    int64  \n",
      " 2   Pclass       891 non-null    int64  \n",
      " 3   Name         891 non-null    object \n",
      " 4   Sex          891 non-null    object \n",
      " 5   Age          714 non-null    float64\n",
      " 6   SibSp        891 non-null    int64  \n",
      " 7   Parch        891 non-null    int64  \n",
      " 8   Ticket       891 non-null    object \n",
      " 9   Fare         891 non-null    float64\n",
      " 10  Cabin        204 non-null    object \n",
      " 11  Embarked     889 non-null    object \n",
      "dtypes: float64(2), int64(5), object(5)\n",
      "memory usage: 83.7+ KB\n"
     ]
    }
   ],
   "source": [
    "df.info()"
   ]
  },
  {
   "cell_type": "code",
   "execution_count": 5,
   "metadata": {
    "_cell_guid": "3ad99207-f876-41e8-8e46-e7d2aa50b8ad",
    "_uuid": "96cd0c17-3c17-4d6c-83d6-3e30b1f3b650",
    "collapsed": false,
    "execution": {
     "iopub.execute_input": "2025-05-26T10:25:12.907774Z",
     "iopub.status.busy": "2025-05-26T10:25:12.907212Z",
     "iopub.status.idle": "2025-05-26T10:25:12.914786Z",
     "shell.execute_reply": "2025-05-26T10:25:12.914099Z",
     "shell.execute_reply.started": "2025-05-26T10:25:12.907749Z"
    },
    "jupyter": {
     "outputs_hidden": false
    },
    "trusted": true
   },
   "outputs": [
    {
     "data": {
      "text/plain": [
       "PassengerId    891\n",
       "Survived       891\n",
       "Pclass         891\n",
       "Name           891\n",
       "Sex            891\n",
       "Age            714\n",
       "SibSp          891\n",
       "Parch          891\n",
       "Ticket         891\n",
       "Fare           891\n",
       "Cabin          204\n",
       "Embarked       889\n",
       "dtype: int64"
      ]
     },
     "execution_count": 5,
     "metadata": {},
     "output_type": "execute_result"
    }
   ],
   "source": [
    "df.count()"
   ]
  },
  {
   "cell_type": "markdown",
   "metadata": {
    "_cell_guid": "aa6df27a-c617-42cb-8dfe-c662a79213d4",
    "_uuid": "668e65e3-a3d6-4877-9848-cd6a81473dce",
    "collapsed": false,
    "jupyter": {
     "outputs_hidden": false
    },
    "trusted": true
   },
   "source": [
    "# Lets Take a look at Non-Null Values"
   ]
  },
  {
   "cell_type": "code",
   "execution_count": 6,
   "metadata": {
    "_cell_guid": "2db3478b-1528-4d32-bb84-fe7766f8de82",
    "_uuid": "b4740740-9226-48eb-9cc8-64dae52d2792",
    "collapsed": false,
    "execution": {
     "iopub.execute_input": "2025-05-26T10:25:13.287305Z",
     "iopub.status.busy": "2025-05-26T10:25:13.286568Z",
     "iopub.status.idle": "2025-05-26T10:25:13.501794Z",
     "shell.execute_reply": "2025-05-26T10:25:13.500949Z",
     "shell.execute_reply.started": "2025-05-26T10:25:13.287280Z"
    },
    "jupyter": {
     "outputs_hidden": false
    },
    "trusted": true
   },
   "outputs": [
    {
     "data": {
      "image/png": "[encoded data removed]",
      "text/plain": [
       "<Figure size 1000x600 with 1 Axes>"
      ]
     },
     "metadata": {},
     "output_type": "display_data"
    }
   ],
   "source": [
    "non_null_count = df.count()\n",
    "\n",
    "# Plot of non null values\n",
    "plt.figure(figsize=(10, 6))\n",
    "non_null_count.plot(kind='bar')\n",
    "plt.title('Non-null Value Count per Column')\n",
    "plt.ylabel('Count')\n",
    "plt.xticks(rotation=45)\n",
    "plt.tight_layout()\n",
    "plt.show()"
   ]
  },
  {
   "cell_type": "code",
   "execution_count": 7,
   "metadata": {
    "_cell_guid": "00f0c8cd-6cf2-4b81-8b50-7af48556f353",
    "_uuid": "643f2415-2711-4096-acdf-21de13cc4a02",
    "collapsed": false,
    "execution": {
     "iopub.execute_input": "2025-05-26T10:25:13.726570Z",
     "iopub.status.busy": "2025-05-26T10:25:13.726233Z",
     "iopub.status.idle": "2025-05-26T10:25:13.733837Z",
     "shell.execute_reply": "2025-05-26T10:25:13.733042Z",
     "shell.execute_reply.started": "2025-05-26T10:25:13.726547Z"
    },
    "jupyter": {
     "outputs_hidden": false
    },
    "trusted": true
   },
   "outputs": [
    {
     "data": {
      "text/plain": [
       "PassengerId      0\n",
       "Survived         0\n",
       "Pclass           0\n",
       "Name             0\n",
       "Sex              0\n",
       "Age            177\n",
       "SibSp            0\n",
       "Parch            0\n",
       "Ticket           0\n",
       "Fare             0\n",
       "Cabin          687\n",
       "Embarked         2\n",
       "dtype: int64"
      ]
     },
     "execution_count": 7,
     "metadata": {},
     "output_type": "execute_result"
    }
   ],
   "source": [
    "null_count = df.isnull().sum()\n",
    "null_count"
   ]
  },
  {
   "cell_type": "markdown",
   "metadata": {
    "_cell_guid": "b0ef77ca-5012-4017-b0ef-fa56ad0bdf71",
    "_uuid": "460743ae-91a3-4bf4-b9c7-66833f8e195a",
    "collapsed": false,
    "jupyter": {
     "outputs_hidden": false
    },
    "trusted": true
   },
   "source": [
    "# Lets Take a look at Null Values"
   ]
  },
  {
   "cell_type": "code",
   "execution_count": 8,
   "metadata": {
    "_cell_guid": "8d061980-937f-4956-9bb0-9833e766543f",
    "_uuid": "8bcb11fc-1b05-4aad-b29a-c27b81c9f784",
    "collapsed": false,
    "execution": {
     "iopub.execute_input": "2025-05-26T10:08:50.744831Z",
     "iopub.status.busy": "2025-05-26T10:08:50.744577Z",
     "iopub.status.idle": "2025-05-26T10:08:51.006103Z",
     "shell.execute_reply": "2025-05-26T10:08:51.005299Z",
     "shell.execute_reply.started": "2025-05-26T10:08:50.744809Z"
    },
    "jupyter": {
     "outputs_hidden": false
    },
    "trusted": true
   },
   "outputs": [
    {
     "data": {
      "image/png": "[encoded data removed]",
      "text/plain": [
       "<Figure size 700x500 with 1 Axes>"
      ]
     },
     "metadata": {},
     "output_type": "display_data"
    }
   ],
   "source": [
    "# Plot of null values\n",
    "\n",
    "plt.figure(figsize=(7, 5))\n",
    "null_count.plot(kind='bar')\n",
    "plt.title('Null Value Count per Column')\n",
    "plt.ylabel('Count')\n",
    "plt.xticks(rotation=45)\n",
    "plt.tight_layout()\n",
    "plt.show()"
   ]
  },
  {
   "cell_type": "markdown",
   "metadata": {
    "_cell_guid": "3f227aca-5c53-4cc9-b387-69af452eb459",
    "_uuid": "098e7d1a-f546-464a-93ec-aaadc1463434",
    "collapsed": false,
    "execution": {
     "iopub.execute_input": "2025-05-26T06:03:27.905380Z",
     "iopub.status.busy": "2025-05-26T06:03:27.905102Z",
     "iopub.status.idle": "2025-05-26T06:03:27.911331Z",
     "shell.execute_reply": "2025-05-26T06:03:27.910258Z",
     "shell.execute_reply.started": "2025-05-26T06:03:27.905359Z"
    },
    "jupyter": {
     "outputs_hidden": false
    },
    "trusted": true
   },
   "source": [
    "## The Cabin Column has the most nulll count so we will drop the column"
   ]
  },
  {
   "cell_type": "code",
   "execution_count": 9,
   "metadata": {
    "_cell_guid": "729ad037-26b6-4f06-be01-8e63bba73ff7",
    "_uuid": "afb12924-5f7e-4f14-915a-28fedb09652c",
    "collapsed": false,
    "execution": {
     "iopub.execute_input": "2025-05-26T10:08:51.007271Z",
     "iopub.status.busy": "2025-05-26T10:08:51.006963Z",
     "iopub.status.idle": "2025-05-26T10:08:51.015138Z",
     "shell.execute_reply": "2025-05-26T10:08:51.014207Z",
     "shell.execute_reply.started": "2025-05-26T10:08:51.007249Z"
    },
    "jupyter": {
     "outputs_hidden": false
    },
    "trusted": true
   },
   "outputs": [],
   "source": [
    "df.drop(columns=[\"Cabin\"],inplace = True)"
   ]
  },
  {
   "cell_type": "code",
   "execution_count": 10,
   "metadata": {
    "_cell_guid": "49a80c52-31be-40e8-b8df-7ccac82d5ed4",
    "_uuid": "52a0887a-7912-4534-b1f7-50c6c6e282e6",
    "collapsed": false,
    "execution": {
     "iopub.execute_input": "2025-05-26T10:08:51.016328Z",
     "iopub.status.busy": "2025-05-26T10:08:51.016090Z",
     "iopub.status.idle": "2025-05-26T10:08:51.036823Z",
     "shell.execute_reply": "2025-05-26T10:08:51.035950Z",
     "shell.execute_reply.started": "2025-05-26T10:08:51.016310Z"
    },
    "jupyter": {
     "outputs_hidden": false
    },
    "trusted": true
   },
   "outputs": [
    {
     "name": "stdout",
     "output_type": "stream",
     "text": [
      "<class 'pandas.core.frame.DataFrame'>\n",
      "RangeIndex: 891 entries, 0 to 890\n",
      "Data columns (total 11 columns):\n",
      " #   Column       Non-Null Count  Dtype  \n",
      "---  ------       --------------  -----  \n",
      " 0   PassengerId  891 non-null    int64  \n",
      " 1   Survived     891 non-null    int64  \n",
      " 2   Pclass       891 non-null    int64  \n",
      " 3   Name         891 non-null    object \n",
      " 4   Sex          891 non-null    object \n",
      " 5   Age          714 non-null    float64\n",
      " 6   SibSp        891 non-null    int64  \n",
      " 7   Parch        891 non-null    int64  \n",
      " 8   Ticket       891 non-null    object \n",
      " 9   Fare         891 non-null    float64\n",
      " 10  Embarked     889 non-null    object \n",
      "dtypes: float64(2), int64(5), object(4)\n",
      "memory usage: 76.7+ KB\n"
     ]
    }
   ],
   "source": [
    "df.info()"
   ]
  },
  {
   "cell_type": "markdown",
   "metadata": {
    "_cell_guid": "a9260bf0-f989-42e1-a471-2ca8024633f8",
    "_uuid": "0d274108-9300-4f34-8571-ac2ba283573b",
    "collapsed": false,
    "jupyter": {
     "outputs_hidden": false
    },
    "trusted": true
   },
   "source": [
    "## The Age Column is missing some values \n",
    "#### Since its numerical values we will use median values based on Pclass and Sex Columns"
   ]
  },
  {
   "cell_type": "code",
   "execution_count": 11,
   "metadata": {
    "_cell_guid": "614e224c-0d6d-4189-9f47-9bc62dfec38b",
    "_uuid": "ef8162df-3c6c-4ec3-8ae9-c1f42e653119",
    "collapsed": false,
    "execution": {
     "iopub.execute_input": "2025-05-26T10:08:51.038004Z",
     "iopub.status.busy": "2025-05-26T10:08:51.037747Z",
     "iopub.status.idle": "2025-05-26T10:08:51.058309Z",
     "shell.execute_reply": "2025-05-26T10:08:51.057417Z",
     "shell.execute_reply.started": "2025-05-26T10:08:51.037986Z"
    },
    "jupyter": {
     "outputs_hidden": false
    },
    "trusted": true
   },
   "outputs": [],
   "source": [
    "df['Age'] = df.groupby(['Pclass', 'Sex'])['Age'].transform(lambda x: x.fillna(x.median()))"
   ]
  },
  {
   "cell_type": "code",
   "execution_count": 12,
   "metadata": {
    "_cell_guid": "a2ba8f01-bfd5-42cd-b59a-52cee0b0fa44",
    "_uuid": "ae144a59-8c36-40ea-bbf4-6f42a1a2cc41",
    "collapsed": false,
    "execution": {
     "iopub.execute_input": "2025-05-26T10:08:51.059553Z",
     "iopub.status.busy": "2025-05-26T10:08:51.059281Z",
     "iopub.status.idle": "2025-05-26T10:08:51.068020Z",
     "shell.execute_reply": "2025-05-26T10:08:51.067230Z",
     "shell.execute_reply.started": "2025-05-26T10:08:51.059529Z"
    },
    "jupyter": {
     "outputs_hidden": false
    },
    "trusted": true
   },
   "outputs": [
    {
     "data": {
      "text/plain": [
       "PassengerId    891\n",
       "Survived       891\n",
       "Pclass         891\n",
       "Name           891\n",
       "Sex            891\n",
       "Age            891\n",
       "SibSp          891\n",
       "Parch          891\n",
       "Ticket         891\n",
       "Fare           891\n",
       "Embarked       889\n",
       "dtype: int64"
      ]
     },
     "execution_count": 12,
     "metadata": {},
     "output_type": "execute_result"
    }
   ],
   "source": [
    "df.count()"
   ]
  },
  {
   "cell_type": "markdown",
   "metadata": {
    "_cell_guid": "33371970-6b25-4c05-a059-038489978e99",
    "_uuid": "b26b133f-5122-4352-815d-19ed3002aec2",
    "collapsed": false,
    "execution": {
     "iopub.execute_input": "2025-05-26T06:15:47.695723Z",
     "iopub.status.busy": "2025-05-26T06:15:47.694828Z",
     "iopub.status.idle": "2025-05-26T06:15:47.701434Z",
     "shell.execute_reply": "2025-05-26T06:15:47.700213Z",
     "shell.execute_reply.started": "2025-05-26T06:15:47.695683Z"
    },
    "jupyter": {
     "outputs_hidden": false
    },
    "trusted": true
   },
   "source": [
    "## If you notice the Embarked column is also missing some values\n",
    "#### Since it is a categorical data we will use the most common value to fill the empty data"
   ]
  },
  {
   "cell_type": "code",
   "execution_count": 13,
   "metadata": {
    "_cell_guid": "9d3f9948-ce67-449c-90fb-dcf027aa64ea",
    "_uuid": "43145f54-08c1-458e-a12a-b2484c99203e",
    "collapsed": false,
    "execution": {
     "iopub.execute_input": "2025-05-26T10:08:51.069513Z",
     "iopub.status.busy": "2025-05-26T10:08:51.068890Z",
     "iopub.status.idle": "2025-05-26T10:08:51.083881Z",
     "shell.execute_reply": "2025-05-26T10:08:51.083042Z",
     "shell.execute_reply.started": "2025-05-26T10:08:51.069485Z"
    },
    "jupyter": {
     "outputs_hidden": false
    },
    "trusted": true
   },
   "outputs": [],
   "source": [
    "df['Embarked'] = df['Embarked'].fillna(df['Embarked'].mode()[0])"
   ]
  },
  {
   "cell_type": "code",
   "execution_count": 14,
   "metadata": {
    "_cell_guid": "96764ef9-de7b-4412-8c81-13052f93efd4",
    "_uuid": "a3e50694-d6d7-47eb-b560-eff340f1a33e",
    "collapsed": false,
    "execution": {
     "iopub.execute_input": "2025-05-26T10:08:51.087796Z",
     "iopub.status.busy": "2025-05-26T10:08:51.087098Z",
     "iopub.status.idle": "2025-05-26T10:08:51.102442Z",
     "shell.execute_reply": "2025-05-26T10:08:51.101503Z",
     "shell.execute_reply.started": "2025-05-26T10:08:51.087762Z"
    },
    "jupyter": {
     "outputs_hidden": false
    },
    "trusted": true
   },
   "outputs": [
    {
     "data": {
      "text/plain": [
       "PassengerId    891\n",
       "Survived       891\n",
       "Pclass         891\n",
       "Name           891\n",
       "Sex            891\n",
       "Age            891\n",
       "SibSp          891\n",
       "Parch          891\n",
       "Ticket         891\n",
       "Fare           891\n",
       "Embarked       891\n",
       "dtype: int64"
      ]
     },
     "execution_count": 14,
     "metadata": {},
     "output_type": "execute_result"
    }
   ],
   "source": [
    "df.count()"
   ]
  },
  {
   "cell_type": "markdown",
   "metadata": {
    "_cell_guid": "e589310e-94e8-41f2-9e9a-0ae759ae40a2",
    "_uuid": "7bf77674-4028-484e-a7c7-ae3c91cd566d",
    "collapsed": false,
    "jupyter": {
     "outputs_hidden": false
    },
    "trusted": true
   },
   "source": [
    "# Lets convert the categorical data to numerical feautures using encoding"
   ]
  },
  {
   "cell_type": "code",
   "execution_count": 15,
   "metadata": {
    "_cell_guid": "c44a2562-c6fa-471c-947b-45f82db3b0dd",
    "_uuid": "21ee312d-ac22-4ed8-a4e6-2acb818b31b1",
    "collapsed": false,
    "execution": {
     "iopub.execute_input": "2025-05-26T10:08:51.103663Z",
     "iopub.status.busy": "2025-05-26T10:08:51.103282Z",
     "iopub.status.idle": "2025-05-26T10:08:51.119370Z",
     "shell.execute_reply": "2025-05-26T10:08:51.118585Z",
     "shell.execute_reply.started": "2025-05-26T10:08:51.103627Z"
    },
    "jupyter": {
     "outputs_hidden": false
    },
    "trusted": true
   },
   "outputs": [],
   "source": [
    "# We will use 1 for male and 0 for female \n",
    "\n",
    "df['Sex'] = df['Sex'].map({'male': 1, 'female': 0})"
   ]
  },
  {
   "cell_type": "code",
   "execution_count": 16,
   "metadata": {
    "_cell_guid": "e81b1068-3feb-48af-927f-d5b0ddff5663",
    "_uuid": "08a48c02-1900-4a04-98da-d6dca95e6d98",
    "collapsed": false,
    "execution": {
     "iopub.execute_input": "2025-05-26T10:08:51.120622Z",
     "iopub.status.busy": "2025-05-26T10:08:51.120286Z",
     "iopub.status.idle": "2025-05-26T10:08:51.137684Z",
     "shell.execute_reply": "2025-05-26T10:08:51.136909Z",
     "shell.execute_reply.started": "2025-05-26T10:08:51.120593Z"
    },
    "jupyter": {
     "outputs_hidden": false
    },
    "trusted": true
   },
   "outputs": [
    {
     "data": {
      "text/plain": [
       "0      1\n",
       "1      0\n",
       "2      0\n",
       "3      0\n",
       "4      1\n",
       "      ..\n",
       "886    1\n",
       "887    0\n",
       "888    0\n",
       "889    1\n",
       "890    1\n",
       "Name: Sex, Length: 891, dtype: int64"
      ]
     },
     "execution_count": 16,
     "metadata": {},
     "output_type": "execute_result"
    }
   ],
   "source": [
    "df[\"Sex\"]"
   ]
  },
  {
   "cell_type": "code",
   "execution_count": 17,
   "metadata": {
    "_cell_guid": "5a754d88-bc57-426b-ae0a-67ae25df547d",
    "_uuid": "1aef3825-22c0-41a1-bf71-9a1dc6192c1f",
    "collapsed": false,
    "execution": {
     "iopub.execute_input": "2025-05-26T10:08:51.138873Z",
     "iopub.status.busy": "2025-05-26T10:08:51.138639Z",
     "iopub.status.idle": "2025-05-26T10:08:51.154651Z",
     "shell.execute_reply": "2025-05-26T10:08:51.153540Z",
     "shell.execute_reply.started": "2025-05-26T10:08:51.138854Z"
    },
    "jupyter": {
     "outputs_hidden": false
    },
    "trusted": true
   },
   "outputs": [],
   "source": [
    "embarked_mapping = {'S': 1, 'C': 2, 'Q': 3}\n",
    "df['Embarked'] = df['Embarked'].map(embarked_mapping)"
   ]
  },
  {
   "cell_type": "code",
   "execution_count": 18,
   "metadata": {
    "_cell_guid": "ffb118f2-8f0a-459d-a045-b4b90ef26efc",
    "_uuid": "16351449-fec6-4024-b4cf-809d86d6d0d2",
    "collapsed": false,
    "execution": {
     "iopub.execute_input": "2025-05-26T10:08:51.155949Z",
     "iopub.status.busy": "2025-05-26T10:08:51.155627Z",
     "iopub.status.idle": "2025-05-26T10:08:51.171390Z",
     "shell.execute_reply": "2025-05-26T10:08:51.170736Z",
     "shell.execute_reply.started": "2025-05-26T10:08:51.155920Z"
    },
    "jupyter": {
     "outputs_hidden": false
    },
    "trusted": true
   },
   "outputs": [
    {
     "data": {
      "text/plain": [
       "0      1\n",
       "1      2\n",
       "2      1\n",
       "3      1\n",
       "4      1\n",
       "      ..\n",
       "886    1\n",
       "887    1\n",
       "888    1\n",
       "889    2\n",
       "890    3\n",
       "Name: Embarked, Length: 891, dtype: int64"
      ]
     },
     "execution_count": 18,
     "metadata": {},
     "output_type": "execute_result"
    }
   ],
   "source": [
    "df[\"Embarked\"]"
   ]
  },
  {
   "cell_type": "markdown",
   "metadata": {
    "_cell_guid": "5b1e017f-aee9-4dc9-8299-d06911c0e444",
    "_uuid": "f96ca86d-99d8-4452-b59b-f4008a7cc64e",
    "collapsed": false,
    "execution": {
     "iopub.execute_input": "2025-05-26T06:52:31.407669Z",
     "iopub.status.busy": "2025-05-26T06:52:31.407028Z",
     "iopub.status.idle": "2025-05-26T06:52:31.411064Z",
     "shell.execute_reply": "2025-05-26T06:52:31.410147Z",
     "shell.execute_reply.started": "2025-05-26T06:52:31.407640Z"
    },
    "jupyter": {
     "outputs_hidden": false
    },
    "trusted": true
   },
   "source": [
    "# Since i plan to use Tree based models I have no need for normalization or standardization\n",
    "### But if you are using any linear model like Logistic regression, SVM, KNN \n",
    "### Here is the code for Standardization"
   ]
  },
  {
   "cell_type": "code",
   "execution_count": 19,
   "metadata": {
    "_cell_guid": "f9cb9cdd-fb72-41bf-93a4-fc14a5e979e5",
    "_uuid": "67357c0c-ec3b-4a28-9f25-587d13823bc1",
    "collapsed": false,
    "execution": {
     "iopub.execute_input": "2025-05-26T10:08:51.172997Z",
     "iopub.status.busy": "2025-05-26T10:08:51.172667Z",
     "iopub.status.idle": "2025-05-26T10:08:51.192935Z",
     "shell.execute_reply": "2025-05-26T10:08:51.191995Z",
     "shell.execute_reply.started": "2025-05-26T10:08:51.172966Z"
    },
    "jupyter": {
     "outputs_hidden": false
    },
    "trusted": true
   },
   "outputs": [
    {
     "data": {
      "text/plain": [
       "\"from sklearn.preprocessing import StandardScaler\\n\\n# Select numeric columns to scale (adjust as needed)\\nnumeric_cols = ['Age', 'Fare']\\n\\n# Create scaler\\nscaler = StandardScaler()\\n\\n# Fit scaler on numeric columns and transform\\ndf_scaled = df.copy()\\ndf_scaled[numeric_cols] = scaler.fit_transform(df[numeric_cols])\\n\\n# Display scaled columns\\nprint(df_scaled[numeric_cols].head())\""
      ]
     },
     "execution_count": 19,
     "metadata": {},
     "output_type": "execute_result"
    }
   ],
   "source": [
    "'''from sklearn.preprocessing import StandardScaler\n",
    "\n",
    "# Select numeric columns to scale (adjust as needed)\n",
    "numeric_cols = ['Age', 'Fare']\n",
    "\n",
    "# Create scaler\n",
    "scaler = StandardScaler()\n",
    "\n",
    "# Fit scaler on numeric columns and transform\n",
    "df_scaled = df.copy()\n",
    "df_scaled[numeric_cols] = scaler.fit_transform(df[numeric_cols])\n",
    "\n",
    "# Display scaled columns\n",
    "print(df_scaled[numeric_cols].head())'''\n",
    "# Just uncomment these"
   ]
  },
  {
   "cell_type": "markdown",
   "metadata": {
    "_cell_guid": "1e34efb1-aa8d-49fd-9da9-520e36ee2316",
    "_uuid": "3228fa5d-11ea-457b-9fc7-82682ccfeda0",
    "collapsed": false,
    "jupyter": {
     "outputs_hidden": false
    },
    "trusted": true
   },
   "source": [
    "## Outliers Visualization using Box Plots"
   ]
  },
  {
   "cell_type": "code",
   "execution_count": 20,
   "metadata": {
    "_cell_guid": "8f12be68-61ac-472d-a94a-b2065f37810a",
    "_uuid": "12a7e0f8-eef8-4146-9bc2-6a0d5d7471eb",
    "collapsed": false,
    "execution": {
     "iopub.execute_input": "2025-05-26T10:08:51.194344Z",
     "iopub.status.busy": "2025-05-26T10:08:51.194002Z",
     "iopub.status.idle": "2025-05-26T10:08:51.480973Z",
     "shell.execute_reply": "2025-05-26T10:08:51.480099Z",
     "shell.execute_reply.started": "2025-05-26T10:08:51.194313Z"
    },
    "jupyter": {
     "outputs_hidden": false
    },
    "trusted": true
   },
   "outputs": [
    {
     "data": {
      "image/png": "[encoded data removed]",
      "text/plain": [
       "<Figure size 800x400 with 1 Axes>"
      ]
     },
     "metadata": {},
     "output_type": "display_data"
    },
    {
     "data": {
      "image/png": "[encoded data removed]",
      "text/plain": [
       "<Figure size 800x400 with 1 Axes>"
      ]
     },
     "metadata": {},
     "output_type": "display_data"
    }
   ],
   "source": [
    "import matplotlib.pyplot as plt\n",
    "\n",
    "plt.figure(figsize=(8, 4))\n",
    "plt.boxplot(df['Age'].dropna())\n",
    "plt.title('Box Plot of Age')\n",
    "plt.show()\n",
    "\n",
    "plt.figure(figsize=(8, 4))\n",
    "plt.boxplot(df['Fare'].dropna())\n",
    "plt.title('Box Plot of Fare')\n",
    "plt.show()"
   ]
  },
  {
   "cell_type": "code",
   "execution_count": 21,
   "metadata": {
    "_cell_guid": "5b573e82-b3a5-455b-884a-1208b888e2fd",
    "_uuid": "6403e075-550e-42ab-8c89-bc80322dd41b",
    "collapsed": false,
    "execution": {
     "iopub.execute_input": "2025-05-26T10:08:51.482241Z",
     "iopub.status.busy": "2025-05-26T10:08:51.481948Z",
     "iopub.status.idle": "2025-05-26T10:08:51.492532Z",
     "shell.execute_reply": "2025-05-26T10:08:51.491065Z",
     "shell.execute_reply.started": "2025-05-26T10:08:51.482219Z"
    },
    "jupyter": {
     "outputs_hidden": false
    },
    "trusted": true
   },
   "outputs": [],
   "source": [
    "# \n",
    "df['Fare_log'] = np.log1p(df['Fare'])"
   ]
  },
  {
   "cell_type": "code",
   "execution_count": 22,
   "metadata": {
    "_cell_guid": "9edd4d50-5650-4824-a7a8-4d02a26ac892",
    "_uuid": "d6568b8c-35c6-4b2e-934b-e99e1d2a2168",
    "collapsed": false,
    "execution": {
     "iopub.execute_input": "2025-05-26T10:08:51.494052Z",
     "iopub.status.busy": "2025-05-26T10:08:51.493682Z",
     "iopub.status.idle": "2025-05-26T10:08:51.503262Z",
     "shell.execute_reply": "2025-05-26T10:08:51.502375Z",
     "shell.execute_reply.started": "2025-05-26T10:08:51.494023Z"
    },
    "jupyter": {
     "outputs_hidden": false
    },
    "trusted": true
   },
   "outputs": [
    {
     "data": {
      "text/plain": [
       "0      2.110213\n",
       "1      4.280593\n",
       "2      2.188856\n",
       "3      3.990834\n",
       "4      2.202765\n",
       "         ...   \n",
       "886    2.639057\n",
       "887    3.433987\n",
       "888    3.196630\n",
       "889    3.433987\n",
       "890    2.169054\n",
       "Name: Fare_log, Length: 891, dtype: float64"
      ]
     },
     "execution_count": 22,
     "metadata": {},
     "output_type": "execute_result"
    }
   ],
   "source": [
    "df['Fare_log']"
   ]
  },
  {
   "cell_type": "markdown",
   "metadata": {
    "_cell_guid": "83336700-860c-4d84-956b-8bc07d40fd50",
    "_uuid": "b7d80de0-66ca-4c5f-ade0-29d41ca809c7",
    "collapsed": false,
    "jupyter": {
     "outputs_hidden": false
    },
    "trusted": true
   },
   "source": [
    "### Dropping Irrelevant columns for Training"
   ]
  },
  {
   "cell_type": "code",
   "execution_count": 23,
   "metadata": {
    "_cell_guid": "c2827d1c-22c4-4be5-aabf-8d582ea3d89e",
    "_uuid": "d902f9e2-99cc-451c-aedf-7aa0b878c688",
    "collapsed": false,
    "execution": {
     "iopub.execute_input": "2025-05-26T10:08:51.504521Z",
     "iopub.status.busy": "2025-05-26T10:08:51.504209Z",
     "iopub.status.idle": "2025-05-26T10:08:51.522156Z",
     "shell.execute_reply": "2025-05-26T10:08:51.520980Z",
     "shell.execute_reply.started": "2025-05-26T10:08:51.504491Z"
    },
    "jupyter": {
     "outputs_hidden": false
    },
    "trusted": true
   },
   "outputs": [],
   "source": [
    "df.drop(['PassengerId', 'Name', 'Ticket'], axis=1, inplace=True)"
   ]
  },
  {
   "cell_type": "markdown",
   "metadata": {},
   "source": [
    "# Logistic Regression"
   ]
  },
  {
   "cell_type": "code",
   "execution_count": 24,
   "metadata": {},
   "outputs": [
    {
     "name": "stdout",
     "output_type": "stream",
     "text": [
      "Accuracy: 0.8161434977578476\n",
      "Classification Report:\n",
      "               precision    recall  f1-score   support\n",
      "\n",
      "           0       0.83      0.87      0.85       134\n",
      "           1       0.79      0.73      0.76        89\n",
      "\n",
      "    accuracy                           0.82       223\n",
      "   macro avg       0.81      0.80      0.81       223\n",
      "weighted avg       0.81      0.82      0.81       223\n",
      "\n"
     ]
    }
   ],
   "source": [
    "from sklearn.model_selection import train_test_split\n",
    "from sklearn.linear_model import LogisticRegression\n",
    "from sklearn.metrics import classification_report,accuracy_score\n",
    "\n",
    "x = df.drop(\"Survived\",axis=1)\n",
    "y = df['Survived']\n",
    "X_train,x_test,Y_train,y_test = train_test_split(x,y,test_size=0.25,random_state=42)\n",
    "\n",
    "logistic_model = LogisticRegression(max_iter=1000)\n",
    "\n",
    "logistic_model.fit(X_train,Y_train)\n",
    "\n",
    "y_pred = logistic_model.predict(x_test)\n",
    "\n",
    "\n",
    "print(\"Accuracy:\", accuracy_score(y_test, y_pred))\n",
    "print(\"Classification Report:\\n\", classification_report(y_test, y_pred))\n"
   ]
  },
  {
   "cell_type": "code",
   "execution_count": 26,
   "metadata": {},
   "outputs": [
    {
     "data": {
      "image/png": "[encoded data removed]",
      "text/plain": [
       "<Figure size 640x480 with 2 Axes>"
      ]
     },
     "metadata": {},
     "output_type": "display_data"
    }
   ],
   "source": [
    "from sklearn.metrics import confusion_matrix, ConfusionMatrixDisplay\n",
    "\n",
    "# Predict the labels\n",
    "y_pred = logistic_model.predict(x_test)\n",
    "\n",
    "# Generate the confusion matrix\n",
    "cm = confusion_matrix(y_test, y_pred)\n",
    "\n",
    "# Display the confusion matrix\n",
    "disp = ConfusionMatrixDisplay(confusion_matrix=cm, display_labels=logistic_model.classes_)\n",
    "disp.plot(cmap='Blues')\n",
    "plt.title(\"Confusion Matrix - Logistic Regression\")\n",
    "plt.show()\n"
   ]
  },
  {
   "cell_type": "code",
   "execution_count": null,
   "metadata": {},
   "outputs": [
    {
     "data": {
      "image/png": "[encoded data removed]",
      "text/plain": [
       "<Figure size 1200x500 with 2 Axes>"
      ]
     },
     "metadata": {},
     "output_type": "display_data"
    }
   ],
   "source": [
    "from sklearn.metrics import roc_curve, roc_auc_score, precision_recall_curve, average_precision_score\n",
    "import matplotlib.pyplot as plt\n",
    "\n",
    "y_probs = logistic_model.predict_proba(x_test)[:, 1]\n",
    "\n",
    "# ROC curve\n",
    "fpr, tpr, _ = roc_curve(y_test, y_probs)\n",
    "roc_auc = roc_auc_score(y_test, y_probs)\n",
    "\n",
    "# Precision-Recall curve\n",
    "precision, recall, _ = precision_recall_curve(y_test, y_probs)\n",
    "avg_precision = average_precision_score(y_test, y_probs)\n",
    "\n",
    "plt.figure(figsize=(12,5))\n",
    "\n",
    "plt.subplot(1,2,1)\n",
    "plt.plot(fpr, tpr, label=f'ROC curve (AUC = {roc_auc:.2f})')\n",
    "plt.plot([0, 1], [0, 1], 'k--')\n",
    "plt.xlabel('False Positive Rate')\n",
    "plt.ylabel('True Positive Rate')\n",
    "plt.title('ROC Curve')\n",
    "plt.legend()\n",
    "\n",
    "plt.subplot(1,2,2)\n",
    "plt.plot(recall, precision, label=f'PR curve (AP = {avg_precision:.2f})')\n",
    "plt.xlabel('Recall')\n",
    "plt.ylabel('Precision')\n",
    "plt.title('Precision-Recall Curve')\n",
    "plt.legend()\n",
    "plt.show()\n"
   ]
  },
  {
   "cell_type": "code",
   "execution_count": null,
   "metadata": {},
   "outputs": [],
   "source": []
  }
 ],
 "metadata": {
  "kaggle": {
   "accelerator": "none",
   "dataSources": [
    {
     "databundleVersionId": 26502,
     "sourceId": 3136,
     "sourceType": "competition"
    }
   ],
   "dockerImageVersionId": 31040,
   "isGpuEnabled": false,
   "isInternetEnabled": true,
   "language": "python",
   "sourceType": "notebook"
  },
  "kernelspec": {
   "display_name": "Python 3",
   "language": "python",
   "name": "python3"
  },
  "language_info": {
   "codemirror_mode": {
    "name": "ipython",
    "version": 3
   },
   "file_extension": ".py",
   "mimetype": "text/x-python",
   "name": "python",
   "nbconvert_exporter": "python",
   "pygments_lexer": "ipython3",
   "version": "3.12.5"
  }
 },
 "nbformat": 4,
 "nbformat_minor": 4
}
